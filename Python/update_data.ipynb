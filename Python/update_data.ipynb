{
 "metadata": {
  "language_info": {
   "codemirror_mode": {
    "name": "ipython",
    "version": 3
   },
   "file_extension": ".py",
   "mimetype": "text/x-python",
   "name": "python",
   "nbconvert_exporter": "python",
   "pygments_lexer": "ipython3",
   "version": "3.8.5-final"
  },
  "orig_nbformat": 2,
  "kernelspec": {
   "name": "python3",
   "display_name": "Python 3"
  }
 },
 "nbformat": 4,
 "nbformat_minor": 2,
 "cells": [
  {
   "source": [
    "## Imports"
   ],
   "cell_type": "markdown",
   "metadata": {}
  },
  {
   "cell_type": "code",
   "execution_count": 232,
   "metadata": {},
   "outputs": [],
   "source": [
    "import pandas as pd \n",
    "import tabula \n",
    "from datetime import date"
   ]
  },
  {
   "source": [
    "## Get and parse data from WSEE Kraków"
   ],
   "cell_type": "markdown",
   "metadata": {}
  },
  {
   "source": [
    "### Get data"
   ],
   "cell_type": "markdown",
   "metadata": {}
  },
  {
   "cell_type": "code",
   "execution_count": 233,
   "metadata": {
    "tags": []
   },
   "outputs": [
    {
     "output_type": "stream",
     "name": "stderr",
     "text": "'pages' argument isn't specified.Will extract only from page 1 by default.\n"
    }
   ],
   "source": [
    "df_tab = tabula.read_pdf(\"https://wsse.krakow.pl/page/wp-content/uploads/2020/09/COVID-19-ogniska-stan-na-28.09.2020-MPWIS.pdf\")\n",
    "df_tab = pd.DataFrame(df_tab[0])"
   ]
  },
  {
   "source": [
    "### Fix improper string parsing"
   ],
   "cell_type": "markdown",
   "metadata": {}
  },
  {
   "cell_type": "code",
   "execution_count": 234,
   "metadata": {
    "tags": []
   },
   "outputs": [],
   "source": [
    "def fix_str(item):\n",
    "    if isinstance(item, str):\n",
    "        return item.replace('\\r', ' ').replace('1)', '').replace('3)', '')\n",
    "\n",
    "def fix_series(series):\n",
    "    return series.apply(fix_str)\n",
    "\n",
    "\n",
    "df_tab = df_tab.apply(fix_series, axis=0)"
   ]
  },
  {
   "source": [
    "### Change labels and trim table"
   ],
   "cell_type": "markdown",
   "metadata": {}
  },
  {
   "cell_type": "code",
   "execution_count": 235,
   "metadata": {},
   "outputs": [],
   "source": [
    "df_tab.iloc[1,0] = df_tab.iloc[0,0]\n",
    "df_tab.iloc[1,1] = df_tab.iloc[0,1]\n",
    "\n",
    "df_tab.columns = df_tab.iloc[1]\n",
    "df_tab.drop(df_tab.index[1], inplace=True)\n",
    "df_tab.drop(df_tab.index[0], inplace=True)\n",
    "df_tab[df_tab['Lp.'] == 'Razem Małopolska'] = df_tab[df_tab['Lp.'] == 'Razem Małopolska'].shift(periods = 1, axis = 1)"
   ]
  },
  {
   "cell_type": "code",
   "execution_count": 236,
   "metadata": {},
   "outputs": [],
   "source": [
    "df_tab = df_tab[['Powiat', 'Ogółem', 'Ludność', 'Liczba aktywnych przypadków']]"
   ]
  },
  {
   "source": [
    "## Prepare data for Kraków"
   ],
   "cell_type": "markdown",
   "metadata": {}
  },
  {
   "source": [
    "### Leave only numerical values for Kraków"
   ],
   "cell_type": "markdown",
   "metadata": {}
  },
  {
   "cell_type": "code",
   "execution_count": 237,
   "metadata": {},
   "outputs": [],
   "source": [
    "df_Krk = df_tab[df_tab['Powiat'] == 'm. Kraków']\n",
    "df_Krk.drop(columns = ['Powiat'], inplace = True)"
   ]
  },
  {
   "cell_type": "code",
   "execution_count": 238,
   "metadata": {},
   "outputs": [],
   "source": [
    "df_Krk['Ogółem'] = [int(str(val).replace(' ','')) for val in df_Krk['Ogółem'].values]\n",
    "df_Krk['Ludność'] = [int(str(val).replace(' ','')) for val in df_Krk['Ludność'].values]\n",
    "df_Krk['Liczba aktywnych przypadków'] = [int(str(val).replace(' ','')) for val in df_Krk['Liczba aktywnych przypadków'].values]"
   ]
  },
  {
   "source": [
    "### Add current date as index"
   ],
   "cell_type": "markdown",
   "metadata": {}
  },
  {
   "cell_type": "code",
   "execution_count": 253,
   "metadata": {
    "tags": []
   },
   "outputs": [],
   "source": [
    "df_Krk['Data'] = date.today()\n",
    "df_Krk.set_index(df_Krk['Data'], inplace = True, drop = True)\n",
    "df_Krk.drop(columns = ['Data'], inplace = True)\n",
    "df_Krk.columns.name = None"
   ]
  },
  {
   "source": [
    "### Perform calculations"
   ],
   "cell_type": "markdown",
   "metadata": {}
  },
  {
   "cell_type": "code",
   "execution_count": 257,
   "metadata": {},
   "outputs": [],
   "source": [
    "df_Krk['Aktywnych na 10tys mieszkańców'] = (df_Krk['Liczba aktywnych przypadków'] / df_Krk['Ludność']) * 10000"
   ]
  },
  {
   "cell_type": "code",
   "execution_count": 256,
   "metadata": {},
   "outputs": [],
   "source": [
    "df_Krk.to_csv('../Data/data.csv')"
   ]
  },
  {
   "cell_type": "code",
   "execution_count": null,
   "metadata": {},
   "outputs": [],
   "source": []
  }
 ]
}