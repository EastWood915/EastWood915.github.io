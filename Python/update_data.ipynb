{
 "metadata": {
  "language_info": {
   "codemirror_mode": {
    "name": "ipython",
    "version": 3
   },
   "file_extension": ".py",
   "mimetype": "text/x-python",
   "name": "python",
   "nbconvert_exporter": "python",
   "pygments_lexer": "ipython3",
   "version": "3.8.5-final"
  },
  "orig_nbformat": 2,
  "kernelspec": {
   "name": "python3",
   "display_name": "Python 3"
  }
 },
 "nbformat": 4,
 "nbformat_minor": 2,
 "cells": [
  {
   "source": [
    "## Imports"
   ],
   "cell_type": "markdown",
   "metadata": {}
  },
  {
   "cell_type": "code",
   "execution_count": 15,
   "metadata": {},
   "outputs": [],
   "source": [
    "import pandas as pd \n",
    "import tabula "
   ]
  },
  {
   "source": [
    "## Get and parse data from WSEE Kraków"
   ],
   "cell_type": "markdown",
   "metadata": {}
  },
  {
   "source": [
    "### Get data"
   ],
   "cell_type": "markdown",
   "metadata": {}
  },
  {
   "cell_type": "code",
   "execution_count": 16,
   "metadata": {
    "tags": []
   },
   "outputs": [
    {
     "output_type": "stream",
     "name": "stderr",
     "text": "'pages' argument isn't specified.Will extract only from page 1 by default.\n"
    }
   ],
   "source": [
    "df = tabula.read_pdf(\"https://wsse.krakow.pl/page/wp-content/uploads/2020/09/COVID-19-ogniska-stan-na-28.09.2020-MPWIS.pdf\")\n",
    "df = pd.DataFrame(df[0])"
   ]
  },
  {
   "source": [
    "### Fix improper string parsing"
   ],
   "cell_type": "markdown",
   "metadata": {}
  },
  {
   "cell_type": "code",
   "execution_count": 17,
   "metadata": {
    "tags": []
   },
   "outputs": [],
   "source": [
    "def fix_str(item):\n",
    "    if isinstance(item, str):\n",
    "        return item.replace('\\r', ' ').replace('1)', '').replace('3)', '')\n",
    "\n",
    "def fix_series(series):\n",
    "    return series.apply(fix_str)\n",
    "\n",
    "\n",
    "df = df.apply(fix_series, axis=0)"
   ]
  },
  {
   "source": [
    "### Change labels and trim table"
   ],
   "cell_type": "markdown",
   "metadata": {}
  },
  {
   "cell_type": "code",
   "execution_count": 18,
   "metadata": {},
   "outputs": [],
   "source": [
    "df.iloc[1,0] = df.iloc[0,0]\n",
    "df.iloc[1,1] = df.iloc[0,1]\n",
    "\n",
    "df.columns = df.iloc[1]\n",
    "df.drop(df.index[1], inplace=True)\n",
    "df.drop(df.index[0], inplace=True)"
   ]
  },
  {
   "cell_type": "code",
   "execution_count": 19,
   "metadata": {},
   "outputs": [
    {
     "output_type": "execute_result",
     "data": {
      "text/plain": "1         Powiat      Ogółem  Ludność Liczba aktywnych przypadków\n2      bocheński         477  106 858                          37\n3        brzeski         168   93 201                          16\n4    chrzanowski         126  124 536                          37\n5      dąbrowski          62   59 174                          13\n6       gorlicki         162  108 886                          14\n7      krakowski         608  279 239                         117\n8     limanowski         737  131 764                         227\n9     miechowski          97   48 818                          35\n10    myślenicki         576  127 600                         196\n11   nowosądecki       1 433  216 796                         192\n12    nowotarski         934  191 782                         324\n13       olkuski         160  111 217                          61\n14   oświęcimski         445  153 486                          46\n15   proszowicki          70   43 222                          23\n16         suski         370   84 232                          61\n17     tarnowski         311  201 497                          27\n18    tatrzański         438   68 072                         126\n19     wadowicki         416  160 006                         129\n20      wielicki         353  129 136                          49\n21     m. Kraków       2 261  779 115                         434\n22  m. Nowy Sącz         546   83 794                          67\n23     m. Tarnów          94  108 470                          12\n24        10 844   3 410 901    31,79                          89\n25        87 330  38 386 476    22,75                        None",
      "text/html": "<div>\n<style scoped>\n    .dataframe tbody tr th:only-of-type {\n        vertical-align: middle;\n    }\n\n    .dataframe tbody tr th {\n        vertical-align: top;\n    }\n\n    .dataframe thead th {\n        text-align: right;\n    }\n</style>\n<table border=\"1\" class=\"dataframe\">\n  <thead>\n    <tr style=\"text-align: right;\">\n      <th>1</th>\n      <th>Powiat</th>\n      <th>Ogółem</th>\n      <th>Ludność</th>\n      <th>Liczba aktywnych przypadków</th>\n    </tr>\n  </thead>\n  <tbody>\n    <tr>\n      <th>2</th>\n      <td>bocheński</td>\n      <td>477</td>\n      <td>106 858</td>\n      <td>37</td>\n    </tr>\n    <tr>\n      <th>3</th>\n      <td>brzeski</td>\n      <td>168</td>\n      <td>93 201</td>\n      <td>16</td>\n    </tr>\n    <tr>\n      <th>4</th>\n      <td>chrzanowski</td>\n      <td>126</td>\n      <td>124 536</td>\n      <td>37</td>\n    </tr>\n    <tr>\n      <th>5</th>\n      <td>dąbrowski</td>\n      <td>62</td>\n      <td>59 174</td>\n      <td>13</td>\n    </tr>\n    <tr>\n      <th>6</th>\n      <td>gorlicki</td>\n      <td>162</td>\n      <td>108 886</td>\n      <td>14</td>\n    </tr>\n    <tr>\n      <th>7</th>\n      <td>krakowski</td>\n      <td>608</td>\n      <td>279 239</td>\n      <td>117</td>\n    </tr>\n    <tr>\n      <th>8</th>\n      <td>limanowski</td>\n      <td>737</td>\n      <td>131 764</td>\n      <td>227</td>\n    </tr>\n    <tr>\n      <th>9</th>\n      <td>miechowski</td>\n      <td>97</td>\n      <td>48 818</td>\n      <td>35</td>\n    </tr>\n    <tr>\n      <th>10</th>\n      <td>myślenicki</td>\n      <td>576</td>\n      <td>127 600</td>\n      <td>196</td>\n    </tr>\n    <tr>\n      <th>11</th>\n      <td>nowosądecki</td>\n      <td>1 433</td>\n      <td>216 796</td>\n      <td>192</td>\n    </tr>\n    <tr>\n      <th>12</th>\n      <td>nowotarski</td>\n      <td>934</td>\n      <td>191 782</td>\n      <td>324</td>\n    </tr>\n    <tr>\n      <th>13</th>\n      <td>olkuski</td>\n      <td>160</td>\n      <td>111 217</td>\n      <td>61</td>\n    </tr>\n    <tr>\n      <th>14</th>\n      <td>oświęcimski</td>\n      <td>445</td>\n      <td>153 486</td>\n      <td>46</td>\n    </tr>\n    <tr>\n      <th>15</th>\n      <td>proszowicki</td>\n      <td>70</td>\n      <td>43 222</td>\n      <td>23</td>\n    </tr>\n    <tr>\n      <th>16</th>\n      <td>suski</td>\n      <td>370</td>\n      <td>84 232</td>\n      <td>61</td>\n    </tr>\n    <tr>\n      <th>17</th>\n      <td>tarnowski</td>\n      <td>311</td>\n      <td>201 497</td>\n      <td>27</td>\n    </tr>\n    <tr>\n      <th>18</th>\n      <td>tatrzański</td>\n      <td>438</td>\n      <td>68 072</td>\n      <td>126</td>\n    </tr>\n    <tr>\n      <th>19</th>\n      <td>wadowicki</td>\n      <td>416</td>\n      <td>160 006</td>\n      <td>129</td>\n    </tr>\n    <tr>\n      <th>20</th>\n      <td>wielicki</td>\n      <td>353</td>\n      <td>129 136</td>\n      <td>49</td>\n    </tr>\n    <tr>\n      <th>21</th>\n      <td>m. Kraków</td>\n      <td>2 261</td>\n      <td>779 115</td>\n      <td>434</td>\n    </tr>\n    <tr>\n      <th>22</th>\n      <td>m. Nowy Sącz</td>\n      <td>546</td>\n      <td>83 794</td>\n      <td>67</td>\n    </tr>\n    <tr>\n      <th>23</th>\n      <td>m. Tarnów</td>\n      <td>94</td>\n      <td>108 470</td>\n      <td>12</td>\n    </tr>\n    <tr>\n      <th>24</th>\n      <td>10 844</td>\n      <td>3 410 901</td>\n      <td>31,79</td>\n      <td>89</td>\n    </tr>\n    <tr>\n      <th>25</th>\n      <td>87 330</td>\n      <td>38 386 476</td>\n      <td>22,75</td>\n      <td>None</td>\n    </tr>\n  </tbody>\n</table>\n</div>"
     },
     "metadata": {},
     "execution_count": 19
    }
   ],
   "source": [
    "df = df[['Powiat', 'Ogółem', 'Ludność', 'Liczba aktywnych przypadków']]\n",
    "df"
   ]
  },
  {
   "cell_type": "code",
   "execution_count": null,
   "metadata": {},
   "outputs": [],
   "source": []
  }
 ]
}