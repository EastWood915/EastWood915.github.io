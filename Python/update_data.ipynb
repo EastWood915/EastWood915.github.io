{
 "metadata": {
  "language_info": {
   "codemirror_mode": {
    "name": "ipython",
    "version": 3
   },
   "file_extension": ".py",
   "mimetype": "text/x-python",
   "name": "python",
   "nbconvert_exporter": "python",
   "pygments_lexer": "ipython3",
   "version": "3.8.5-final"
  },
  "orig_nbformat": 2,
  "kernelspec": {
   "name": "python3",
   "display_name": "Python 3"
  }
 },
 "nbformat": 4,
 "nbformat_minor": 2,
 "cells": [
  {
   "cell_type": "code",
   "execution_count": 645,
   "metadata": {},
   "outputs": [],
   "source": [
    "import pandas as pd \n",
    "import tabula \n",
    "from datetime import date"
   ]
  },
  {
   "cell_type": "code",
   "execution_count": 646,
   "metadata": {},
   "outputs": [],
   "source": [
    "today = date.fromisoformat('2020-07-02')"
   ]
  },
  {
   "cell_type": "code",
   "execution_count": 647,
   "metadata": {},
   "outputs": [
    {
     "output_type": "execute_result",
     "data": {
      "text/plain": "2"
     },
     "metadata": {},
     "execution_count": 647
    }
   ],
   "source": [
    "today.day"
   ]
  },
  {
   "source": [
    "## Read data from file"
   ],
   "cell_type": "markdown",
   "metadata": {}
  },
  {
   "cell_type": "code",
   "execution_count": 648,
   "metadata": {},
   "outputs": [
    {
     "output_type": "execute_result",
     "data": {
      "text/plain": "         Data  Ogółem  Ludność  Liczba aktywnych przypadków  \\\n0  2020-09-13    1839   779115                          527   \n1  2020-09-03    1552   779115                          869   \n2  2020-08-31    1480   779115                          888   \n3  2020-10-01    2365   779115                          461   \n\n   Aktywnych na 10tys mieszkańców  Liczba nowych przypadków  \n0                        6.764085                       NaN  \n1                       11.153681                    -287.0  \n2                       11.397547                     -72.0  \n3                        5.916970                     885.0  ",
      "text/html": "<div>\n<style scoped>\n    .dataframe tbody tr th:only-of-type {\n        vertical-align: middle;\n    }\n\n    .dataframe tbody tr th {\n        vertical-align: top;\n    }\n\n    .dataframe thead th {\n        text-align: right;\n    }\n</style>\n<table border=\"1\" class=\"dataframe\">\n  <thead>\n    <tr style=\"text-align: right;\">\n      <th></th>\n      <th>Data</th>\n      <th>Ogółem</th>\n      <th>Ludność</th>\n      <th>Liczba aktywnych przypadków</th>\n      <th>Aktywnych na 10tys mieszkańców</th>\n      <th>Liczba nowych przypadków</th>\n    </tr>\n  </thead>\n  <tbody>\n    <tr>\n      <th>0</th>\n      <td>2020-09-13</td>\n      <td>1839</td>\n      <td>779115</td>\n      <td>527</td>\n      <td>6.764085</td>\n      <td>NaN</td>\n    </tr>\n    <tr>\n      <th>1</th>\n      <td>2020-09-03</td>\n      <td>1552</td>\n      <td>779115</td>\n      <td>869</td>\n      <td>11.153681</td>\n      <td>-287.0</td>\n    </tr>\n    <tr>\n      <th>2</th>\n      <td>2020-08-31</td>\n      <td>1480</td>\n      <td>779115</td>\n      <td>888</td>\n      <td>11.397547</td>\n      <td>-72.0</td>\n    </tr>\n    <tr>\n      <th>3</th>\n      <td>2020-10-01</td>\n      <td>2365</td>\n      <td>779115</td>\n      <td>461</td>\n      <td>5.916970</td>\n      <td>885.0</td>\n    </tr>\n  </tbody>\n</table>\n</div>"
     },
     "metadata": {},
     "execution_count": 648
    }
   ],
   "source": [
    "df_data = pd.read_csv('../Data/data.csv')\n",
    "df_data"
   ]
  },
  {
   "source": [
    "## Get and parse data from WSEE Kraków"
   ],
   "cell_type": "markdown",
   "metadata": {}
  },
  {
   "source": [
    "### Get data"
   ],
   "cell_type": "markdown",
   "metadata": {}
  },
  {
   "cell_type": "code",
   "execution_count": 649,
   "metadata": {
    "tags": []
   },
   "outputs": [
    {
     "output_type": "stream",
     "name": "stderr",
     "text": "&#39;pages&#39; argument isn&#39;t specified.Will extract only from page 1 by default.\n"
    }
   ],
   "source": [
    "if(today.month >= 10):\n",
    "    suffix = ''\n",
    "    zero = ''\n",
    "else:\n",
    "    suffix = '-MPWIS'\n",
    "    zero = '0'\n",
    "\n",
    "link_list = [f\"https://wsse.krakow.pl/page/wp-content/uploads/{today.year}/{zero}{today.month}/COVID-19-ogniska-stan-na-{today.day}.{zero}{today.month}.{today.year}-MPWIS.pdf\",\n",
    "        f\"https://wsse.krakow.pl/page/wp-content/uploads/{today.year}/{zero}{today.month}/COVID-19-ogniska-stan-na-0{today.day}.{zero}{today.month}.{today.year}-MPWIS.pdf\",\n",
    "        f\"https://wsse.krakow.pl/page/wp-content/uploads/{today.year}/{zero}{today.month}/COVID-19-ogniska-stan-na-{today.day}.{zero}{today.month}.{today.year}.pdf\",\n",
    "        f\"https://wsse.krakow.pl/page/wp-content/uploads/{today.year}/{zero}{today.month}/COVID-19-ogniska-stan-na-0{today.day}.{zero}{today.month}.{today.year}.pdf\",\n",
    "        f\"https://wsse.krakow.pl/page/wp-content/uploads/{today.year}/{zero}{today.month}/COVID-19-ogniska-stan-na-0{today.day}.{zero}{today.month}.{today.year}-.pdf\"]\n",
    "\n",
    "for link in link_list:\n",
    "    try:\n",
    "        df_tab = tabula.read_pdf(link)\n",
    "    except:\n",
    "        continue\n",
    "    break\n",
    "\n",
    "try:\n",
    "    df_tab = pd.DataFrame(df_tab[0])\n",
    "except KeyError:\n",
    "    raise NameError(f\"Parse failed on {today}\")\n",
    "\n",
    "if today.month < 9:\n",
    "    df_tab[df_tab['Unnamed: 0'] == 'Ogółem'] = df_tab[df_tab['Unnamed: 0'] == 'Ogółem'].shift(periods = 1, axis = 1)\n"
   ]
  },
  {
   "source": [
    "### Fix improper string parsing"
   ],
   "cell_type": "markdown",
   "metadata": {}
  },
  {
   "cell_type": "code",
   "execution_count": 650,
   "metadata": {
    "tags": []
   },
   "outputs": [],
   "source": [
    "def fix_str(item):\n",
    "    if isinstance(item, str):\n",
    "        return item.replace('\\r', ' ').replace('1)', '').replace('3)', '')\n",
    "\n",
    "def fix_series(series):\n",
    "    return series.apply(fix_str)\n",
    "\n",
    "\n",
    "df_tab = df_tab.apply(fix_series, axis=0)"
   ]
  },
  {
   "source": [
    "### Change labels and trim table"
   ],
   "cell_type": "markdown",
   "metadata": {}
  },
  {
   "cell_type": "code",
   "execution_count": 651,
   "metadata": {},
   "outputs": [
    {
     "output_type": "execute_result",
     "data": {
      "text/plain": "1        Lp.            Powiat      Ogółem    Ludność  \\\n2          1         bocheński         152    106 858   \n3          2           brzeski          68     93 201   \n4          3       chrzanowski          37    124 536   \n5          4         dąbrowski          15     59 174   \n6          5          gorlicki          10    108 886   \n7          6         krakowski          86    279 239   \n8          7        limanowski         124    131 764   \n9          8        miechowski          12     48 818   \n10         9        myślenicki         159    127 600   \n11        10       nowosądecki         115    216 796   \n12        11        nowotarski          14    191 782   \n13        12           olkuski          13    111 217   \n14        13       oświęcimski         105    153 486   \n15        14       proszowicki          11     43 222   \n16        15             suski         194     84 232   \n17        16         tarnowski         113    201 497   \n18        17        tatrzański           7     68 072   \n19        18         wadowicki          34    160 006   \n20        19          wielicki         127    129 136   \n21        20         m. Kraków         344    779 115   \n22        21      m. Nowy Sącz          38     83 794   \n23        22         m. Tarnów          14    108 470   \n24       NaN  Razem Małopolska       1 792  3 410 901   \n25  2)POLSKA            34 775  38 386 476       9,06   \n\n1  Zapadalność / Aktywne przypadki (na 10 000) Liczba zgonów  \\\n2                                        14,22             3   \n3                                         7,30             2   \n4                                         2,97             0   \n5                                         2,53             0   \n6                                         0,92             0   \n7                                         3,08             1   \n8                                         9,41             3   \n9                                         2,46             0   \n10                                       12,46             0   \n11                                        5,30             0   \n12                                        0,73             0   \n13                                        1,17             0   \n14                                        6,84             4   \n15                                        2,55             2   \n16                                       23,03             0   \n17                                        5,61             3   \n18                                        1,03             0   \n19                                        2,12             2   \n20                                        9,83             5   \n21                                        4,42            19   \n22                                        4,53             0   \n23                                        1,29             0   \n24                                        5,25            44   \n25                                        None          None   \n\n1  Liczba wyleczonych Liczba aktywnych  przypadków  \\\n2                 139                            8   \n3                  64                            0   \n4                  23                           14   \n5                  11                            4   \n6                   7                            3   \n7                  63                           22   \n8                 104                           17   \n9                  12                            0   \n10                149                           10   \n11                 30                           85   \n12                  9                            5   \n13                 10                            3   \n14                 65                           36   \n15                  6                            3   \n16                112                           82   \n17                 20                           90   \n18                  4                            3   \n19                 14                           18   \n20                116                            5   \n21                248                           77   \n22                 28                           10   \n23                 12                            2   \n24              1 246                          497   \n25               None                         None   \n\n1  Osoby z kwarantanny po powrocie z zagranicy  \\\n2                                            2   \n3                                            2   \n4                                            1   \n5                                            2   \n6                                            1   \n7                                            4   \n8                                            0   \n9                                            0   \n10                                           0   \n11                                           7   \n12                                           2   \n13                                           1   \n14                                           2   \n15                                           0   \n16                                           0   \n17                                           3   \n18                                           1   \n19                                           0   \n20                                           1   \n21                                          23   \n22                                           3   \n23                                           8   \n24                                          63   \n25                                        None   \n\n1  Osoby z kwarantanny po kontakcie z osobą zakażoną  \\\n2                                                 65   \n3                                                  5   \n4                                                 18   \n5                                                 12   \n6                                                  6   \n7                                                 38   \n8                                                 68   \n9                                                  5   \n10                                                86   \n11                                               108   \n12                                                 4   \n13                                                 0   \n14                                                46   \n15                                                 0   \n16                                               115   \n17                                                82   \n18                                                 4   \n19                                                16   \n20                                               117   \n21                                               104   \n22                                                34   \n23                                                 3   \n24                                               936   \n25                                              None   \n\n1  Zachorowania poprzez kontakt w szpitalu lub przychodni Zachorowania w DPS  \\\n2                                                  12                     54   \n3                                                  48                      0   \n4                                                   0                      0   \n5                                                   1                      0   \n6                                                   1                      0   \n7                                                  19                      0   \n8                                                  25                      0   \n9                                                   0                      0   \n10                                                 18                      0   \n11                                                  0                      0   \n12                                                  1                      0   \n13                                                  5                      0   \n14                                                 13                      0   \n15                                                  5                      0   \n16                                                  0                      0   \n17                                                  2                     22   \n18                                                  1                      0   \n19                                                  4                      0   \n20                                                  9                      0   \n21                                                 99                      0   \n22                                                  1                      0   \n23                                                  2                      0   \n24                                                266                     76   \n25                                               None                   None   \n\n1  Zachorowania w ZOL Inne przypadki zachorowań  \n2                   0                      None  \n3                   2                      None  \n4                   0                      None  \n5                   0                      None  \n6                   0                      None  \n7                   0                      None  \n8                   0                      None  \n9                   0                      None  \n10                  0                      None  \n11                  0                      None  \n12                  0                      None  \n13                  0                      None  \n14                  0                      None  \n15                  0                      None  \n16                  0                      None  \n17                  0                      None  \n18                  0                      None  \n19                  0                      None  \n20                  0                      None  \n21                  0                      None  \n22                  0                      None  \n23                  0                      None  \n24                  2                       449  \n25               None                      None  ",
      "text/html": "<div>\n<style scoped>\n    .dataframe tbody tr th:only-of-type {\n        vertical-align: middle;\n    }\n\n    .dataframe tbody tr th {\n        vertical-align: top;\n    }\n\n    .dataframe thead th {\n        text-align: right;\n    }\n</style>\n<table border=\"1\" class=\"dataframe\">\n  <thead>\n    <tr style=\"text-align: right;\">\n      <th>1</th>\n      <th>Lp.</th>\n      <th>Powiat</th>\n      <th>Ogółem</th>\n      <th>Ludność</th>\n      <th>Zapadalność / Aktywne przypadki (na 10 000)</th>\n      <th>Liczba zgonów</th>\n      <th>Liczba wyleczonych</th>\n      <th>Liczba aktywnych  przypadków</th>\n      <th>Osoby z kwarantanny po powrocie z zagranicy</th>\n      <th>Osoby z kwarantanny po kontakcie z osobą zakażoną</th>\n      <th>Zachorowania poprzez kontakt w szpitalu lub przychodni</th>\n      <th>Zachorowania w DPS</th>\n      <th>Zachorowania w ZOL</th>\n      <th>Inne przypadki zachorowań</th>\n    </tr>\n  </thead>\n  <tbody>\n    <tr>\n      <th>2</th>\n      <td>1</td>\n      <td>bocheński</td>\n      <td>152</td>\n      <td>106 858</td>\n      <td>14,22</td>\n      <td>3</td>\n      <td>139</td>\n      <td>8</td>\n      <td>2</td>\n      <td>65</td>\n      <td>12</td>\n      <td>54</td>\n      <td>0</td>\n      <td>None</td>\n    </tr>\n    <tr>\n      <th>3</th>\n      <td>2</td>\n      <td>brzeski</td>\n      <td>68</td>\n      <td>93 201</td>\n      <td>7,30</td>\n      <td>2</td>\n      <td>64</td>\n      <td>0</td>\n      <td>2</td>\n      <td>5</td>\n      <td>48</td>\n      <td>0</td>\n      <td>2</td>\n      <td>None</td>\n    </tr>\n    <tr>\n      <th>4</th>\n      <td>3</td>\n      <td>chrzanowski</td>\n      <td>37</td>\n      <td>124 536</td>\n      <td>2,97</td>\n      <td>0</td>\n      <td>23</td>\n      <td>14</td>\n      <td>1</td>\n      <td>18</td>\n      <td>0</td>\n      <td>0</td>\n      <td>0</td>\n      <td>None</td>\n    </tr>\n    <tr>\n      <th>5</th>\n      <td>4</td>\n      <td>dąbrowski</td>\n      <td>15</td>\n      <td>59 174</td>\n      <td>2,53</td>\n      <td>0</td>\n      <td>11</td>\n      <td>4</td>\n      <td>2</td>\n      <td>12</td>\n      <td>1</td>\n      <td>0</td>\n      <td>0</td>\n      <td>None</td>\n    </tr>\n    <tr>\n      <th>6</th>\n      <td>5</td>\n      <td>gorlicki</td>\n      <td>10</td>\n      <td>108 886</td>\n      <td>0,92</td>\n      <td>0</td>\n      <td>7</td>\n      <td>3</td>\n      <td>1</td>\n      <td>6</td>\n      <td>1</td>\n      <td>0</td>\n      <td>0</td>\n      <td>None</td>\n    </tr>\n    <tr>\n      <th>7</th>\n      <td>6</td>\n      <td>krakowski</td>\n      <td>86</td>\n      <td>279 239</td>\n      <td>3,08</td>\n      <td>1</td>\n      <td>63</td>\n      <td>22</td>\n      <td>4</td>\n      <td>38</td>\n      <td>19</td>\n      <td>0</td>\n      <td>0</td>\n      <td>None</td>\n    </tr>\n    <tr>\n      <th>8</th>\n      <td>7</td>\n      <td>limanowski</td>\n      <td>124</td>\n      <td>131 764</td>\n      <td>9,41</td>\n      <td>3</td>\n      <td>104</td>\n      <td>17</td>\n      <td>0</td>\n      <td>68</td>\n      <td>25</td>\n      <td>0</td>\n      <td>0</td>\n      <td>None</td>\n    </tr>\n    <tr>\n      <th>9</th>\n      <td>8</td>\n      <td>miechowski</td>\n      <td>12</td>\n      <td>48 818</td>\n      <td>2,46</td>\n      <td>0</td>\n      <td>12</td>\n      <td>0</td>\n      <td>0</td>\n      <td>5</td>\n      <td>0</td>\n      <td>0</td>\n      <td>0</td>\n      <td>None</td>\n    </tr>\n    <tr>\n      <th>10</th>\n      <td>9</td>\n      <td>myślenicki</td>\n      <td>159</td>\n      <td>127 600</td>\n      <td>12,46</td>\n      <td>0</td>\n      <td>149</td>\n      <td>10</td>\n      <td>0</td>\n      <td>86</td>\n      <td>18</td>\n      <td>0</td>\n      <td>0</td>\n      <td>None</td>\n    </tr>\n    <tr>\n      <th>11</th>\n      <td>10</td>\n      <td>nowosądecki</td>\n      <td>115</td>\n      <td>216 796</td>\n      <td>5,30</td>\n      <td>0</td>\n      <td>30</td>\n      <td>85</td>\n      <td>7</td>\n      <td>108</td>\n      <td>0</td>\n      <td>0</td>\n      <td>0</td>\n      <td>None</td>\n    </tr>\n    <tr>\n      <th>12</th>\n      <td>11</td>\n      <td>nowotarski</td>\n      <td>14</td>\n      <td>191 782</td>\n      <td>0,73</td>\n      <td>0</td>\n      <td>9</td>\n      <td>5</td>\n      <td>2</td>\n      <td>4</td>\n      <td>1</td>\n      <td>0</td>\n      <td>0</td>\n      <td>None</td>\n    </tr>\n    <tr>\n      <th>13</th>\n      <td>12</td>\n      <td>olkuski</td>\n      <td>13</td>\n      <td>111 217</td>\n      <td>1,17</td>\n      <td>0</td>\n      <td>10</td>\n      <td>3</td>\n      <td>1</td>\n      <td>0</td>\n      <td>5</td>\n      <td>0</td>\n      <td>0</td>\n      <td>None</td>\n    </tr>\n    <tr>\n      <th>14</th>\n      <td>13</td>\n      <td>oświęcimski</td>\n      <td>105</td>\n      <td>153 486</td>\n      <td>6,84</td>\n      <td>4</td>\n      <td>65</td>\n      <td>36</td>\n      <td>2</td>\n      <td>46</td>\n      <td>13</td>\n      <td>0</td>\n      <td>0</td>\n      <td>None</td>\n    </tr>\n    <tr>\n      <th>15</th>\n      <td>14</td>\n      <td>proszowicki</td>\n      <td>11</td>\n      <td>43 222</td>\n      <td>2,55</td>\n      <td>2</td>\n      <td>6</td>\n      <td>3</td>\n      <td>0</td>\n      <td>0</td>\n      <td>5</td>\n      <td>0</td>\n      <td>0</td>\n      <td>None</td>\n    </tr>\n    <tr>\n      <th>16</th>\n      <td>15</td>\n      <td>suski</td>\n      <td>194</td>\n      <td>84 232</td>\n      <td>23,03</td>\n      <td>0</td>\n      <td>112</td>\n      <td>82</td>\n      <td>0</td>\n      <td>115</td>\n      <td>0</td>\n      <td>0</td>\n      <td>0</td>\n      <td>None</td>\n    </tr>\n    <tr>\n      <th>17</th>\n      <td>16</td>\n      <td>tarnowski</td>\n      <td>113</td>\n      <td>201 497</td>\n      <td>5,61</td>\n      <td>3</td>\n      <td>20</td>\n      <td>90</td>\n      <td>3</td>\n      <td>82</td>\n      <td>2</td>\n      <td>22</td>\n      <td>0</td>\n      <td>None</td>\n    </tr>\n    <tr>\n      <th>18</th>\n      <td>17</td>\n      <td>tatrzański</td>\n      <td>7</td>\n      <td>68 072</td>\n      <td>1,03</td>\n      <td>0</td>\n      <td>4</td>\n      <td>3</td>\n      <td>1</td>\n      <td>4</td>\n      <td>1</td>\n      <td>0</td>\n      <td>0</td>\n      <td>None</td>\n    </tr>\n    <tr>\n      <th>19</th>\n      <td>18</td>\n      <td>wadowicki</td>\n      <td>34</td>\n      <td>160 006</td>\n      <td>2,12</td>\n      <td>2</td>\n      <td>14</td>\n      <td>18</td>\n      <td>0</td>\n      <td>16</td>\n      <td>4</td>\n      <td>0</td>\n      <td>0</td>\n      <td>None</td>\n    </tr>\n    <tr>\n      <th>20</th>\n      <td>19</td>\n      <td>wielicki</td>\n      <td>127</td>\n      <td>129 136</td>\n      <td>9,83</td>\n      <td>5</td>\n      <td>116</td>\n      <td>5</td>\n      <td>1</td>\n      <td>117</td>\n      <td>9</td>\n      <td>0</td>\n      <td>0</td>\n      <td>None</td>\n    </tr>\n    <tr>\n      <th>21</th>\n      <td>20</td>\n      <td>m. Kraków</td>\n      <td>344</td>\n      <td>779 115</td>\n      <td>4,42</td>\n      <td>19</td>\n      <td>248</td>\n      <td>77</td>\n      <td>23</td>\n      <td>104</td>\n      <td>99</td>\n      <td>0</td>\n      <td>0</td>\n      <td>None</td>\n    </tr>\n    <tr>\n      <th>22</th>\n      <td>21</td>\n      <td>m. Nowy Sącz</td>\n      <td>38</td>\n      <td>83 794</td>\n      <td>4,53</td>\n      <td>0</td>\n      <td>28</td>\n      <td>10</td>\n      <td>3</td>\n      <td>34</td>\n      <td>1</td>\n      <td>0</td>\n      <td>0</td>\n      <td>None</td>\n    </tr>\n    <tr>\n      <th>23</th>\n      <td>22</td>\n      <td>m. Tarnów</td>\n      <td>14</td>\n      <td>108 470</td>\n      <td>1,29</td>\n      <td>0</td>\n      <td>12</td>\n      <td>2</td>\n      <td>8</td>\n      <td>3</td>\n      <td>2</td>\n      <td>0</td>\n      <td>0</td>\n      <td>None</td>\n    </tr>\n    <tr>\n      <th>24</th>\n      <td>NaN</td>\n      <td>Razem Małopolska</td>\n      <td>1 792</td>\n      <td>3 410 901</td>\n      <td>5,25</td>\n      <td>44</td>\n      <td>1 246</td>\n      <td>497</td>\n      <td>63</td>\n      <td>936</td>\n      <td>266</td>\n      <td>76</td>\n      <td>2</td>\n      <td>449</td>\n    </tr>\n    <tr>\n      <th>25</th>\n      <td>2)POLSKA</td>\n      <td>34 775</td>\n      <td>38 386 476</td>\n      <td>9,06</td>\n      <td>None</td>\n      <td>None</td>\n      <td>None</td>\n      <td>None</td>\n      <td>None</td>\n      <td>None</td>\n      <td>None</td>\n      <td>None</td>\n      <td>None</td>\n      <td>None</td>\n    </tr>\n  </tbody>\n</table>\n</div>"
     },
     "metadata": {},
     "execution_count": 651
    }
   ],
   "source": [
    "df_tab.iloc[1,0] = df_tab.iloc[0,0]\n",
    "df_tab.iloc[1,1] = df_tab.iloc[0,1]\n",
    "\n",
    "df_tab.columns = df_tab.iloc[1]\n",
    "df_tab.drop(df_tab.index[1], inplace=True)\n",
    "df_tab.drop(df_tab.index[0], inplace=True)\n",
    "df_tab[df_tab['Lp.'] == 'Razem Małopolska'] = df_tab[df_tab['Lp.'] == 'Razem Małopolska'].shift(periods = 1, axis = 1)\n",
    "df_tab"
   ]
  },
  {
   "cell_type": "code",
   "execution_count": 652,
   "metadata": {},
   "outputs": [
    {
     "output_type": "error",
     "ename": "KeyError",
     "evalue": "&quot;[&#39;Liczba aktywnych przypadków&#39;] not in index&quot;",
     "traceback": [
      "\u001b[0;31m---------------------------------------------------------------------------\u001b[0m",
      "\u001b[0;31mKeyError\u001b[0m                                  Traceback (most recent call last)",
      "\u001b[0;32m&lt;ipython-input-652-1ef3aa275542&gt;\u001b[0m in \u001b[0;36m&lt;module&gt;\u001b[0;34m\u001b[0m\n\u001b[0;32m----&gt; 1\u001b[0;31m \u001b[0mdf_tab\u001b[0m \u001b[0;34m=\u001b[0m \u001b[0mdf_tab\u001b[0m\u001b[0;34m[\u001b[0m\u001b[0;34m[\u001b[0m\u001b[0;34m&#39;Powiat&#39;\u001b[0m\u001b[0;34m,\u001b[0m \u001b[0;34m&#39;Ogółem&#39;\u001b[0m\u001b[0;34m,\u001b[0m \u001b[0;34m&#39;Ludność&#39;\u001b[0m\u001b[0;34m,\u001b[0m \u001b[0;34m&#39;Liczba aktywnych przypadków&#39;\u001b[0m\u001b[0;34m]\u001b[0m\u001b[0;34m]\u001b[0m\u001b[0;34m\u001b[0m\u001b[0;34m\u001b[0m\u001b[0m\n\u001b[0m",
      "\u001b[0;32m~/miniconda3/envs/covid/lib/python3.8/site-packages/pandas/core/frame.py\u001b[0m in \u001b[0;36m__getitem__\u001b[0;34m(self, key)\u001b[0m\n\u001b[1;32m   2906\u001b[0m             \u001b[0;32mif\u001b[0m \u001b[0mis_iterator\u001b[0m\u001b[0;34m(\u001b[0m\u001b[0mkey\u001b[0m\u001b[0;34m)\u001b[0m\u001b[0;34m:\u001b[0m\u001b[0;34m\u001b[0m\u001b[0;34m\u001b[0m\u001b[0m\n\u001b[1;32m   2907\u001b[0m                 \u001b[0mkey\u001b[0m \u001b[0;34m=\u001b[0m \u001b[0mlist\u001b[0m\u001b[0;34m(\u001b[0m\u001b[0mkey\u001b[0m\u001b[0;34m)\u001b[0m\u001b[0;34m\u001b[0m\u001b[0;34m\u001b[0m\u001b[0m\n\u001b[0;32m-&gt; 2908\u001b[0;31m             \u001b[0mindexer\u001b[0m \u001b[0;34m=\u001b[0m \u001b[0mself\u001b[0m\u001b[0;34m.\u001b[0m\u001b[0mloc\u001b[0m\u001b[0;34m.\u001b[0m\u001b[0m_get_listlike_indexer\u001b[0m\u001b[0;34m(\u001b[0m\u001b[0mkey\u001b[0m\u001b[0;34m,\u001b[0m \u001b[0maxis\u001b[0m\u001b[0;34m=\u001b[0m\u001b[0;36m1\u001b[0m\u001b[0;34m,\u001b[0m \u001b[0mraise_missing\u001b[0m\u001b[0;34m=\u001b[0m\u001b[0;32mTrue\u001b[0m\u001b[0;34m)\u001b[0m\u001b[0;34m[\u001b[0m\u001b[0;36m1\u001b[0m\u001b[0;34m]\u001b[0m\u001b[0;34m\u001b[0m\u001b[0;34m\u001b[0m\u001b[0m\n\u001b[0m\u001b[1;32m   2909\u001b[0m \u001b[0;34m\u001b[0m\u001b[0m\n\u001b[1;32m   2910\u001b[0m         \u001b[0;31m# take() does not accept boolean indexers\u001b[0m\u001b[0;34m\u001b[0m\u001b[0;34m\u001b[0m\u001b[0;34m\u001b[0m\u001b[0m\n",
      "\u001b[0;32m~/miniconda3/envs/covid/lib/python3.8/site-packages/pandas/core/indexing.py\u001b[0m in \u001b[0;36m_get_listlike_indexer\u001b[0;34m(self, key, axis, raise_missing)\u001b[0m\n\u001b[1;32m   1252\u001b[0m             \u001b[0mkeyarr\u001b[0m\u001b[0;34m,\u001b[0m \u001b[0mindexer\u001b[0m\u001b[0;34m,\u001b[0m \u001b[0mnew_indexer\u001b[0m \u001b[0;34m=\u001b[0m \u001b[0max\u001b[0m\u001b[0;34m.\u001b[0m\u001b[0m_reindex_non_unique\u001b[0m\u001b[0;34m(\u001b[0m\u001b[0mkeyarr\u001b[0m\u001b[0;34m)\u001b[0m\u001b[0;34m\u001b[0m\u001b[0;34m\u001b[0m\u001b[0m\n\u001b[1;32m   1253\u001b[0m \u001b[0;34m\u001b[0m\u001b[0m\n\u001b[0;32m-&gt; 1254\u001b[0;31m         \u001b[0mself\u001b[0m\u001b[0;34m.\u001b[0m\u001b[0m_validate_read_indexer\u001b[0m\u001b[0;34m(\u001b[0m\u001b[0mkeyarr\u001b[0m\u001b[0;34m,\u001b[0m \u001b[0mindexer\u001b[0m\u001b[0;34m,\u001b[0m \u001b[0maxis\u001b[0m\u001b[0;34m,\u001b[0m \u001b[0mraise_missing\u001b[0m\u001b[0;34m=\u001b[0m\u001b[0mraise_missing\u001b[0m\u001b[0;34m)\u001b[0m\u001b[0;34m\u001b[0m\u001b[0;34m\u001b[0m\u001b[0m\n\u001b[0m\u001b[1;32m   1255\u001b[0m         \u001b[0;32mreturn\u001b[0m \u001b[0mkeyarr\u001b[0m\u001b[0;34m,\u001b[0m \u001b[0mindexer\u001b[0m\u001b[0;34m\u001b[0m\u001b[0;34m\u001b[0m\u001b[0m\n\u001b[1;32m   1256\u001b[0m \u001b[0;34m\u001b[0m\u001b[0m\n",
      "\u001b[0;32m~/miniconda3/envs/covid/lib/python3.8/site-packages/pandas/core/indexing.py\u001b[0m in \u001b[0;36m_validate_read_indexer\u001b[0;34m(self, key, indexer, axis, raise_missing)\u001b[0m\n\u001b[1;32m   1302\u001b[0m             \u001b[0;32mif\u001b[0m \u001b[0mraise_missing\u001b[0m\u001b[0;34m:\u001b[0m\u001b[0;34m\u001b[0m\u001b[0;34m\u001b[0m\u001b[0m\n\u001b[1;32m   1303\u001b[0m                 \u001b[0mnot_found\u001b[0m \u001b[0;34m=\u001b[0m \u001b[0mlist\u001b[0m\u001b[0;34m(\u001b[0m\u001b[0mset\u001b[0m\u001b[0;34m(\u001b[0m\u001b[0mkey\u001b[0m\u001b[0;34m)\u001b[0m \u001b[0;34m-\u001b[0m \u001b[0mset\u001b[0m\u001b[0;34m(\u001b[0m\u001b[0max\u001b[0m\u001b[0;34m)\u001b[0m\u001b[0;34m)\u001b[0m\u001b[0;34m\u001b[0m\u001b[0;34m\u001b[0m\u001b[0m\n\u001b[0;32m-&gt; 1304\u001b[0;31m                 \u001b[0;32mraise\u001b[0m \u001b[0mKeyError\u001b[0m\u001b[0;34m(\u001b[0m\u001b[0;34mf&quot;{not_found} not in index&quot;\u001b[0m\u001b[0;34m)\u001b[0m\u001b[0;34m\u001b[0m\u001b[0;34m\u001b[0m\u001b[0m\n\u001b[0m\u001b[1;32m   1305\u001b[0m \u001b[0;34m\u001b[0m\u001b[0m\n\u001b[1;32m   1306\u001b[0m             \u001b[0;31m# we skip the warning on Categorical\u001b[0m\u001b[0;34m\u001b[0m\u001b[0;34m\u001b[0m\u001b[0;34m\u001b[0m\u001b[0m\n",
      "\u001b[0;31mKeyError\u001b[0m: &quot;[&#39;Liczba aktywnych przypadków&#39;] not in index&quot;"
     ]
    }
   ],
   "source": [
    "df_tab = df_tab[['Powiat', 'Ogółem', 'Ludność', 'Liczba aktywnych przypadków']]"
   ]
  },
  {
   "source": [
    "## Prepare data for Kraków"
   ],
   "cell_type": "markdown",
   "metadata": {}
  },
  {
   "source": [
    "### Leave only numerical values for Kraków"
   ],
   "cell_type": "markdown",
   "metadata": {}
  },
  {
   "cell_type": "code",
   "execution_count": 638,
   "metadata": {},
   "outputs": [],
   "source": [
    "df_Krk = df_tab[df_tab['Powiat'] == 'm. Kraków']\n",
    "df_Krk.drop(columns = ['Powiat'], inplace = True)\n",
    "df_Krk.columns.name = ''"
   ]
  },
  {
   "cell_type": "code",
   "execution_count": 639,
   "metadata": {},
   "outputs": [],
   "source": [
    "df_Krk['Ogółem'] = [int(str(val).replace(' ','')) for val in df_Krk['Ogółem'].values]\n",
    "df_Krk['Ludność'] = [int(str(val).replace(' ','')) for val in df_Krk['Ludność'].values]\n",
    "df_Krk['Liczba aktywnych przypadków'] = [int(str(val).replace(' ','')) for val in df_Krk['Liczba aktywnych przypadków'].values]"
   ]
  },
  {
   "cell_type": "code",
   "execution_count": 244,
   "metadata": {
    "tags": []
   },
   "outputs": [
    {
     "output_type": "execute_result",
     "data": {
      "text/plain": "    Ogółem  Ludność  Liczba aktywnych przypadków        Data\n21    2279   779115                          421  2020-10-03",
      "text/html": "<div>\n<style scoped>\n    .dataframe tbody tr th:only-of-type {\n        vertical-align: middle;\n    }\n\n    .dataframe tbody tr th {\n        vertical-align: top;\n    }\n\n    .dataframe thead th {\n        text-align: right;\n    }\n</style>\n<table border=\"1\" class=\"dataframe\">\n  <thead>\n    <tr style=\"text-align: right;\">\n      <th></th>\n      <th>Ogółem</th>\n      <th>Ludność</th>\n      <th>Liczba aktywnych przypadków</th>\n      <th>Data</th>\n    </tr>\n  </thead>\n  <tbody>\n    <tr>\n      <th>21</th>\n      <td>2279</td>\n      <td>779115</td>\n      <td>421</td>\n      <td>2020-10-03</td>\n    </tr>\n  </tbody>\n</table>\n</div>"
     },
     "metadata": {},
     "execution_count": 244
    }
   ],
   "source": []
  },
  {
   "source": [
    "### Perform calculations"
   ],
   "cell_type": "markdown",
   "metadata": {}
  },
  {
   "cell_type": "code",
   "execution_count": 640,
   "metadata": {},
   "outputs": [
    {
     "output_type": "execute_result",
     "data": {
      "text/plain": "    Ogółem  Ludność  Liczba aktywnych przypadków        Data  \\\n21    2365   779115                          461  2020-10-01   \n\n    Aktywnych na 10tys mieszkańców  \n21                         5.91697  ",
      "text/html": "<div>\n<style scoped>\n    .dataframe tbody tr th:only-of-type {\n        vertical-align: middle;\n    }\n\n    .dataframe tbody tr th {\n        vertical-align: top;\n    }\n\n    .dataframe thead th {\n        text-align: right;\n    }\n</style>\n<table border=\"1\" class=\"dataframe\">\n  <thead>\n    <tr style=\"text-align: right;\">\n      <th></th>\n      <th>Ogółem</th>\n      <th>Ludność</th>\n      <th>Liczba aktywnych przypadków</th>\n      <th>Data</th>\n      <th>Aktywnych na 10tys mieszkańców</th>\n    </tr>\n  </thead>\n  <tbody>\n    <tr>\n      <th>21</th>\n      <td>2365</td>\n      <td>779115</td>\n      <td>461</td>\n      <td>2020-10-01</td>\n      <td>5.91697</td>\n    </tr>\n  </tbody>\n</table>\n</div>"
     },
     "metadata": {},
     "execution_count": 640
    }
   ],
   "source": [
    "df_Krk['Data'] = today\n",
    "df_Krk['Aktywnych na 10tys mieszkańców'] = (df_Krk['Liczba aktywnych przypadków'] / df_Krk['Ludność']) * 10000\n",
    "df_Krk"
   ]
  },
  {
   "source": [
    "### Append to df_data and save"
   ],
   "cell_type": "markdown",
   "metadata": {}
  },
  {
   "cell_type": "code",
   "execution_count": 641,
   "metadata": {
    "tags": []
   },
   "outputs": [],
   "source": [
    "if str(today) not in df_data['Data'].values:\n",
    "    df_data = df_data.append(df_Krk)"
   ]
  },
  {
   "cell_type": "code",
   "execution_count": 642,
   "metadata": {},
   "outputs": [],
   "source": [
    "df_data['Liczba nowych przypadków'] = df_data['Ogółem'].diff().astype(int, errors = 'ignore')"
   ]
  },
  {
   "cell_type": "code",
   "execution_count": 643,
   "metadata": {},
   "outputs": [
    {
     "output_type": "execute_result",
     "data": {
      "text/plain": "            Ogółem  Ludność  Liczba aktywnych przypadków  \\\nData                                                       \n2020-09-13    1839   779115                          527   \n2020-09-03    1552   779115                          869   \n2020-08-31    1480   779115                          888   \n2020-10-01    2365   779115                          461   \n\n            Aktywnych na 10tys mieszkańców  Liczba nowych przypadków  \nData                                                                  \n2020-09-13                        6.764085                       NaN  \n2020-09-03                       11.153681                    -287.0  \n2020-08-31                       11.397547                     -72.0  \n2020-10-01                        5.916970                     885.0  ",
      "text/html": "<div>\n<style scoped>\n    .dataframe tbody tr th:only-of-type {\n        vertical-align: middle;\n    }\n\n    .dataframe tbody tr th {\n        vertical-align: top;\n    }\n\n    .dataframe thead th {\n        text-align: right;\n    }\n</style>\n<table border=\"1\" class=\"dataframe\">\n  <thead>\n    <tr style=\"text-align: right;\">\n      <th></th>\n      <th>Ogółem</th>\n      <th>Ludność</th>\n      <th>Liczba aktywnych przypadków</th>\n      <th>Aktywnych na 10tys mieszkańców</th>\n      <th>Liczba nowych przypadków</th>\n    </tr>\n    <tr>\n      <th>Data</th>\n      <th></th>\n      <th></th>\n      <th></th>\n      <th></th>\n      <th></th>\n    </tr>\n  </thead>\n  <tbody>\n    <tr>\n      <th>2020-09-13</th>\n      <td>1839</td>\n      <td>779115</td>\n      <td>527</td>\n      <td>6.764085</td>\n      <td>NaN</td>\n    </tr>\n    <tr>\n      <th>2020-09-03</th>\n      <td>1552</td>\n      <td>779115</td>\n      <td>869</td>\n      <td>11.153681</td>\n      <td>-287.0</td>\n    </tr>\n    <tr>\n      <th>2020-08-31</th>\n      <td>1480</td>\n      <td>779115</td>\n      <td>888</td>\n      <td>11.397547</td>\n      <td>-72.0</td>\n    </tr>\n    <tr>\n      <th>2020-10-01</th>\n      <td>2365</td>\n      <td>779115</td>\n      <td>461</td>\n      <td>5.916970</td>\n      <td>885.0</td>\n    </tr>\n  </tbody>\n</table>\n</div>"
     },
     "metadata": {},
     "execution_count": 643
    }
   ],
   "source": [
    "df_data.set_index(df_data['Data'], inplace = True, drop = True)\n",
    "df_data.drop(columns = ['Data'], inplace = True)\n",
    "df_data.columns.name = None\n",
    "df_data"
   ]
  },
  {
   "cell_type": "code",
   "execution_count": 644,
   "metadata": {},
   "outputs": [],
   "source": [
    "df_data.to_csv('../Data/data.csv')"
   ]
  }
 ]
}